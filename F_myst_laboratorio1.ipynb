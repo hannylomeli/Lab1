{
 "cells": [
  {
   "cell_type": "markdown",
   "metadata": {},
   "source": [
    "___\n",
    "<img style=\"float: right; margin: 0px 0px 15px 15px;\" src=\"https://www.carrerasenlinea.mx/logos/original/logo-instituto-tecnologico-y-de-estudios-superiores-de-occidente.png\" width=\"150px\" height=\"100px\" />\n",
    "\n",
    "\n",
    "# MICROESTRUCTURAS Y SISTEMAS DE \"TRADING\"\n",
    "# LABORATORIO 1\n",
    "\n",
    "## Nombre: Jocelyn Medel Ruiz, Hannia Lomeli, Carlos Ochoa\n",
    "\n",
    "## Fecha: 15 de Septiembre 2019"
   ]
  },
  {
   "cell_type": "markdown",
   "metadata": {},
   "source": [
    "## Introducción\n",
    "\n",
    "Dentro de este primer laboratorio se busca analizar detalladamente un ETF, en nuestro caso, el OEF. Para lograr la realización de este proyecto, nos apoyamos en la programación usando múltiples librerías y creando diferentes funciones de acuerdo a lo que necesitabamos para llegar a las conclusiones deseadas. \n",
    "\n",
    "Se busca que el siguiente trabajo, sea entenbile a cualquier persona con conocimientos financieros y nulos de programación."
   ]
  },
  {
   "cell_type": "markdown",
   "metadata": {},
   "source": [
    "Como el trabajo se basa en un ETF, a continuación describiremos un poco más este instrumento financiero"
   ]
  },
  {
   "cell_type": "markdown",
   "metadata": {},
   "source": [
    "### ¿Qué es un ETF?\n",
    "\n",
    "Un Exchange Traded Fund, ETF, por sus siglas en inglés es un conjunto diversificado de activos, como un fondo de inversión, que cotiza en bolsa (como si fuera una acción). Los ETFs le permiten invertir su dinero fácilmente, con bajo costo y de manera eficiente a nivel impositivo."
   ]
  },
  {
   "cell_type": "markdown",
   "metadata": {},
   "source": [
    "### ¿Qué beneficios tienen los ETF?\n",
    "\n",
    "**1.** El costo, la conveniencia y la variedad son los motivos por los cuales los inversionistas deben considerar el uso de ETFs en sus carteras.\n",
    "\n",
    "**2.** Flexibilidad: los ETFs proporcionan exposiciones que se adaptan tanto a su cartera básica como a su inversión táctica.\n",
    "\n",
    "**3.** Efectividad en costos: los ETFs suelen tener comisiones de gestión más bajas que los fondos activos y sus costos son más fáciles de calcular.\n",
    "\n",
    "**4.** Diversificación: los ETFs ofrecen exposición instantánea a valores diversos en cada fondo (vehículo u operación)\n",
    "\n",
    "**5.** Transparencia: los ETFs muestran cada valor incluido actualmente en el mismo a fin de que usted sepa exactamente lo que tiene.\n",
    "\n",
    "**6.** Liquidez: los ETFs cotizan en bolsa y pueden comercializarse en cualquier momento durantela sesión bursátil.\n",
    "\n",
    "**7.** Acceso: los ETFs permiten un acceso instantáneo a los mercados internacionales."
   ]
  },
  {
   "cell_type": "markdown",
   "metadata": {},
   "source": [
    "### ¿Qué ETF se analizará?\n",
    "\n",
    "__OEF:__ El ETF iShares S&P 100 busca replicar los resultados de inversión de un índice compuesto por 100 valores de renta variable de alta capitalización de EE.UU.\n",
    "\n",
    "* Exposición a las empresas más grandes de EE. UU.\n",
    "\n",
    "* Acceso a 100 valores locales con tope máximo de capitalización en un solo fondo\n",
    "\n",
    "* Usado para buscar crecimiento a largo plazo de la cartera"
   ]
  },
  {
   "cell_type": "markdown",
   "metadata": {},
   "source": [
    "## Primera Parte: Análisis de Datos\n",
    "************"
   ]
  },
  {
   "cell_type": "markdown",
   "metadata": {},
   "source": [
    "Importamos todas las librerías necesarias"
   ]
  },
  {
   "cell_type": "code",
   "execution_count": 71,
   "metadata": {},
   "outputs": [],
   "source": [
    "import quandl \n",
    "import numpy as np \n",
    "import pandas as pd\n",
    "import scipy.stats as stats\n",
    "import matplotlib.pyplot as plt\n",
    "%matplotlib inline"
   ]
  },
  {
   "cell_type": "markdown",
   "metadata": {},
   "source": [
    "Para la resolución de este problema, creamos 5 funciones diferentes, cada una con un propósito que describiré a continuación:\n",
    "\n",
    "* __Download_excel_csv:__ Esta función guarda el Excel con los datos de Ishare \n",
    "* __Download_quandl:__ Función para bajar los datos de Quandl\n",
    "* __Clean_data:__ Esta función borra lo que no tengo igual de la lista de Ishares y Quandl\n",
    "* __Acciones:__ Esta función calcula el tamaño de las acciones que necesitamos\n",
    "* __Re_balance:__ Esta función hace un rebalanceo del ETF"
   ]
  },
  {
   "cell_type": "code",
   "execution_count": 72,
   "metadata": {},
   "outputs": [],
   "source": [
    "def download_excel_csv(num_files, dir_, f_name):\n",
    "    #num_files: Número de archivos que tenemos\n",
    "    #dir_: Directorio\n",
    "    #f_name: Prefijo del nombre del archivo\n",
    "    d = {} #Diccionario vacío\n",
    "    for i in range(num_files): \n",
    "        nom_arch = f_name+str(i+1)+\".csv\"    \n",
    "        dir_f = dir_+nom_arch\n",
    "        data = pd.read_csv(dir_f, skiprows=[0, 1, 2, 3, 4, 5, 6, 7, 8, 9])\n",
    "        d[\"Data_{0}\".format(i+1)] = data   \n",
    "    return d\n",
    "    # Nos regresa un diccionario DF con los datos"
   ]
  },
  {
   "cell_type": "code",
   "execution_count": 73,
   "metadata": {},
   "outputs": [],
   "source": [
    "def download_quandl(dates, num_files):\n",
    "    # dates = lista de las fechas a bajar\n",
    "    # num_files = Número de archivos que tenemos\n",
    "    d2 = {}  #Diccionario vacío\n",
    "    for i in range(num_files):  \n",
    "        nom = \"Data_\"+str(i+1)\n",
    "        ticker_r = list(d[nom][\"Ticker\"])  #Lista de Tickers\n",
    "        date = {'gte': dates[i], 'lte': dates[i] }\n",
    "        column = {'columns': ['ticker', 'date', 'Adj_close']}\n",
    "        data = quandl.get_table('WIKI/PRICES', qopts=column, ticker=ticker_r, date=date, paginate=True)\n",
    "        d2[\"Data_{0}\".format(i+1)] = data.set_index('ticker')\n",
    "        d[nom] = d[nom].set_index('Ticker')  # Ticker is set as index\n",
    "    return d2\n",
    "    # Nos regresa un diccionario de datos con los datos de Quandl"
   ]
  },
  {
   "cell_type": "code",
   "execution_count": 74,
   "metadata": {},
   "outputs": [],
   "source": [
    "def clean_data(num_files, d, d2):\n",
    "    # num_files = Número de archivos que tenemos\n",
    "    # d: Diccionario creado de Excel\n",
    "    # d2: Diccionario creado de Quandl\n",
    "    \n",
    "    d3 = {}  #Diccionario vacío\n",
    "    for i in range(num_files):\n",
    "        nom = \"Data_\"+str(i+1)\n",
    "        a = set(list(d[nom].index)) #Set es conjunto, ¡¡con la lista no podemos hacer las mismas operaciones!!\n",
    "        b = set(list(d2[nom].index))\n",
    "        c = list(a-b)  # Compara las dos listas, para quitarlo después\n",
    "        data_1 = d[nom] # Tabla 1 de ishares\n",
    "        data_2 = d2[nom] # Tabla 1 de Quandl\n",
    "        data_1 = data_1.drop(c, axis=0)  #Quita los activos que Quandl no tiene\n",
    "        data_1 = data_1.drop([\"Name\", \"Asset Class\", \"Market Value\", \"Shares\", \"Notional Value\",\n",
    "                              \"Sector\", \"SEDOL\", \"ISIN\", \"Exchange\"], 1)  #Quito las 1=columnas que no necesito\n",
    "        data = data_1.join(data_2) #Junto los dos  \n",
    "        data = data.drop(\"date\", axis = 1) #Quito date porque ya esta en los dos cuando se junto\n",
    "        data.columns = ([\"Weight\",\"Start\", \"End\"]) #Columnas vacías, start y end= precio de acciones en el periodo\n",
    "        data['Start'] = data['Start'].str.replace(',', '') #Las comas no las lee, y las quito\n",
    "        data['Weight'] = data['Weight']/100 #Quitar porcentaje\n",
    "        data['Start'] = pd.to_numeric(data['Start']) #Lo paso a número para hacer operaciones\n",
    "        d3[\"Data_{0}\".format(i+1)] = data \n",
    "    return d3"
   ]
  },
  {
   "cell_type": "code",
   "execution_count": 75,
   "metadata": {},
   "outputs": [],
   "source": [
    "def acciones(d, initial_capital):\n",
    "    # d = Data Frame\n",
    "    # initial_capital: Capital inicial con el que contamos\n",
    "    shares_ = pd.DataFrame(np.floor((d['Weight']*initial_capital)/d['Start']), columns=['Shares'])\n",
    "    d = d.join(shares_) #Floor redondea para abajo, porque no puedes comprar 1.1 \n",
    "    #Le agregas al dataframe las acciones calculadas\n",
    "    return d\n",
    "    # Regesa un Data Frame con la cantidad de acciones por activo"
   ]
  },
  {
   "cell_type": "code",
   "execution_count": 111,
   "metadata": {},
   "outputs": [],
   "source": [
    "def re_balance(d_1, d_2, in_capital, l_cap, l_nav, remainder):\n",
    "    # d_1: Data Frame MES 1\n",
    "    # d_2: Data Frame MES 2\n",
    "    # in_capital: Capital Inicial\n",
    "    # l_cap: Lista para poner aqui el capital ya rebalanceado\n",
    "    # l_nav: Lista para poner el NAV ya rebalanceado\n",
    "    # remainder: Lo que queda en la cuenta, primero vendes para recuperar dinero y luego compras \n",
    "    \n",
    "    # Diferencias entre Tickers\n",
    "    # Tickers mes 1 - Tickers mes 2\n",
    "    a = list(set(list(d_1.index))-set(list(d_2.index))) #Los que fueron vendidos\n",
    "    # Intersección entre los dos\n",
    "    b = list(set(list(d_2.index))-set(list(set(list(d_2.index))-set(list(d_1.index))))) #Los que se quedan\n",
    "    # Tickers mes 2 - Tickers 1\n",
    "    c = list(set(list(d_2.index))-set(list(d_1.index)))  #Los que fueron comprados\n",
    "    \n",
    "    # Vender Acciones\n",
    "    df_sell = d_1.drop(b, 0)\n",
    "    # value= precio x número de acciones y la suma es el valor monetario #\n",
    "    value = sum(df_sell.iloc[:, 2]*df_sell.iloc[:, 3])\n",
    "    # Como es lo que vendes, esto lo sumas a lo tuyo\n",
    "    remainder += (value)\n",
    "    \n",
    "    # Comprar Acciones\n",
    "    df_buy = d_2.drop(b, 0)\n",
    "    # value= precio x número de acciones y la suma es el valor monetario #\n",
    "    value = sum(df_buy.iloc[:, 2]*df_buy.iloc[:, 3])\n",
    "    # Como es lo que compras, se lo restas a lo tuyo\n",
    "    remainder -= (value)\n",
    "    \n",
    "    # Rebalancear posiciones\n",
    "    # y1 y y2 intersecciones entre ambos\n",
    "    y1 = d_1.drop(a, 0)  # Intersección\n",
    "    y2 = d_2.drop(c, 0)  # \" \"\n",
    "    y1 = y1.sort_index() # Te lo acomoda por orden\n",
    "    y2 = y2.sort_index() # \" \"\n",
    "    shares_c_v = np.floor(((y2['Weight']-y1['Weight'])*in_capital)/y2['End'])\n",
    "    \n",
    "    # Cuando en valor en Shares_c_v es +, COMPRAR\n",
    "    # Cuando en valor en Shares_c_v es -, VENDER\n",
    "    \n",
    "    value = (shares_c_v*y2['End']).sum() #.sum hace el de todos y te deja un número\n",
    "    remainder += (value) \n",
    "    \n",
    "    # Resultados del rebalanceo\n",
    "    # Sacamos las métricas\n",
    "    nav = sum(d_1['End']*d_1['Shares'])/sum(d_1['Shares'])\n",
    "    cap_ = sum(d_2['End']*d_2['Shares']) + remainder\n",
    "    l_nav.append(nav)\n",
    "    l_cap.append(cap_)\n",
    "    return l_cap, l_nav, remainder\n",
    "    # Nos regresa la lista de capital, lista de NAV y el valor del sobrante "
   ]
  },
  {
   "cell_type": "markdown",
   "metadata": {},
   "source": [
    "El periodo de fechas a analizar, abarca del 28/02/17 al 28/02/18:"
   ]
  },
  {
   "cell_type": "code",
   "execution_count": 112,
   "metadata": {},
   "outputs": [],
   "source": [
    "dates_to = list(['2017-02-28','2017-03-28', '2017-04-28', '2017-05-31', '2017-06-30', '2017-07-31',\n",
    "                 '2017-08-31', '2017-09-29', '2017-10-31', '2017-11-30', '2017-12-29',\n",
    "                 '2018-01-31', '2018-02-28'])"
   ]
  },
  {
   "cell_type": "markdown",
   "metadata": {},
   "source": [
    "Api de Quandl para poder bajar los datos:"
   ]
  },
  {
   "cell_type": "code",
   "execution_count": 113,
   "metadata": {},
   "outputs": [],
   "source": [
    "quandl.ApiConfig.api_key = \"Kdc4WJ4qKJehx9jNpL8t\" "
   ]
  },
  {
   "cell_type": "markdown",
   "metadata": {},
   "source": [
    "A continuación mandamos a llamar las funciones de __download_excel_csv__, __download_quandl__, __clean_data__ y __acciones__. Para fines del ejercicio, supusimos tener un capital inicial de 10 millones y no tenemos costos de transacción. "
   ]
  },
  {
   "cell_type": "code",
   "execution_count": 152,
   "metadata": {},
   "outputs": [],
   "source": [
    "num_ar = 13  # Numero de archivos a importar\n",
    "d = download_excel_csv(num_ar,\"/Users/Lilly Lomeli Salado/Desktop/7mo semestre/Trading/Lab1/Lab1/HISTORICOS/\",\"OEF_\")\n",
    "d2 = download_quandl(dates_to, num_ar)\n",
    "d3 = clean_data(num_ar, d, d2)    \n",
    "Initial_Capital = 10000000  #Diez millones\n",
    "\n",
    "for i in range(num_ar):\n",
    "    nom = \"Data_\"+str(i+1)\n",
    "    #mes 1 de la unión, ...  #de cada mes me calcula las acciones\n",
    "    d3[\"Data_{0}\".format(i+1)] = acciones(d3[nom], Initial_Capital)  # De OEF_1 a OEF_13\n",
    "    \n",
    "l_Cap = list()\n",
    "l_NAV = list()\n",
    "ind = list(d3.keys()) #del diccionario d3 me hace una lista de las llaves: FORMA DE ACCESAR \n",
    "\n",
    "#S = In_Cap -             SUM(precio final   *  cantidad de acciones)\n",
    "S = Initial_Capital - sum(d3['Data_1']['End']*d3['Data_1']['Shares']) \n",
    "\n",
    "# Aqui mandamos a llamar la funcion de __re_balance__ con los parámetros \n",
    "# correspondientes descritos anteriormente:\n",
    "\n",
    "for p in range(len(ind)-1):\n",
    "    # mes 1 vs mes 2 \n",
    "    l_Cap, l_NAV, S = re_balance(d3[ind[p]], d3[ind[p+1]], Initial_Capital, l_Cap, l_NAV, S)"
   ]
  },
  {
   "cell_type": "markdown",
   "metadata": {},
   "source": [
    "Mostraremos graficamente el Valor del Portafolio con el Rebalanceo Mensual y el NAV, en las fechas analizadas:"
   ]
  },
  {
   "cell_type": "code",
   "execution_count": 142,
   "metadata": {},
   "outputs": [
    {
     "data": {
      "text/plain": [
       "<matplotlib.legend.Legend at 0x1cbd44c6e48>"
      ]
     },
     "execution_count": 142,
     "metadata": {},
     "output_type": "execute_result"
    },
    {
     "data": {
      "image/png": "[encoded data removed]",
      "text/plain": [
       "<Figure size 1296x288 with 2 Axes>"
      ]
     },
     "metadata": {},
     "output_type": "display_data"
    }
   ],
   "source": [
    "plt.figure(figsize=(18, 4))\n",
    "plt.subplot(121)\n",
    "plt.plot(l_Cap, label='Value the Portfolio')\n",
    "plt.title('Valor del portafolio con el Rebalanceo Mensual de Ishares')\n",
    "plt.xticks(np.arange(0, 12, 1), ('Mar','Apr', 'May', 'Jun', 'Jul', 'Aug', 'Sept', 'Oct', 'Nov', 'Dec', 'Jan', 'Feb'))\n",
    "plt.xlabel('Dates')\n",
    "plt.ylabel('')\n",
    "plt.legend()\n",
    "plt.subplot(122)\n",
    "plt.plot(l_NAV, label='NAV')\n",
    "plt.title('NAV del ETF con el Rebalanceo Mensual de Ishares')\n",
    "plt.xticks(np.arange(0, 12, 1), ('Mar','Apr', 'May', 'Jun', 'Jul', 'Aug', 'Sept', 'Oct', 'Nov', 'Dec', 'Jan', 'Feb'))\n",
    "plt.xlabel('Dates')\n",
    "plt.ylabel('NAV')\n",
    "plt.legend()"
   ]
  },
  {
   "cell_type": "code",
   "execution_count": 157,
   "metadata": {},
   "outputs": [
    {
     "data": {
      "text/html": [
       "<div>\n",
       "<style scoped>\n",
       "    .dataframe tbody tr th:only-of-type {\n",
       "        vertical-align: middle;\n",
       "    }\n",
       "\n",
       "    .dataframe tbody tr th {\n",
       "        vertical-align: top;\n",
       "    }\n",
       "\n",
       "    .dataframe thead th {\n",
       "        text-align: right;\n",
       "    }\n",
       "</style>\n",
       "<table border=\"1\" class=\"dataframe\">\n",
       "  <thead>\n",
       "    <tr style=\"text-align: right;\">\n",
       "      <th></th>\n",
       "      <th>Rendimiento</th>\n",
       "    </tr>\n",
       "  </thead>\n",
       "  <tbody>\n",
       "    <tr>\n",
       "      <th>0</th>\n",
       "      <td>0.325416</td>\n",
       "    </tr>\n",
       "    <tr>\n",
       "      <th>1</th>\n",
       "      <td>0.272358</td>\n",
       "    </tr>\n",
       "    <tr>\n",
       "      <th>2</th>\n",
       "      <td>0.431928</td>\n",
       "    </tr>\n",
       "    <tr>\n",
       "      <th>3</th>\n",
       "      <td>0.889219</td>\n",
       "    </tr>\n",
       "    <tr>\n",
       "      <th>4</th>\n",
       "      <td>0.544610</td>\n",
       "    </tr>\n",
       "    <tr>\n",
       "      <th>5</th>\n",
       "      <td>-0.322812</td>\n",
       "    </tr>\n",
       "    <tr>\n",
       "      <th>6</th>\n",
       "      <td>-0.473727</td>\n",
       "    </tr>\n",
       "    <tr>\n",
       "      <th>7</th>\n",
       "      <td>-0.611604</td>\n",
       "    </tr>\n",
       "    <tr>\n",
       "      <th>8</th>\n",
       "      <td>-0.880106</td>\n",
       "    </tr>\n",
       "    <tr>\n",
       "      <th>9</th>\n",
       "      <td>-0.464585</td>\n",
       "    </tr>\n",
       "    <tr>\n",
       "      <th>10</th>\n",
       "      <td>-0.836822</td>\n",
       "    </tr>\n",
       "    <tr>\n",
       "      <th>11</th>\n",
       "      <td>-1.115366</td>\n",
       "    </tr>\n",
       "  </tbody>\n",
       "</table>\n",
       "</div>"
      ],
      "text/plain": [
       "    Rendimiento\n",
       "0      0.325416\n",
       "1      0.272358\n",
       "2      0.431928\n",
       "3      0.889219\n",
       "4      0.544610\n",
       "5     -0.322812\n",
       "6     -0.473727\n",
       "7     -0.611604\n",
       "8     -0.880106\n",
       "9     -0.464585\n",
       "10    -0.836822\n",
       "11    -1.115366"
      ]
     },
     "execution_count": 157,
     "metadata": {},
     "output_type": "execute_result"
    }
   ],
   "source": [
    "# Sacamos rendimiento\n",
    "Rend = ((pd.DataFrame(l_Cap, columns=['Rendimiento'])-Initial_Capital)/Initial_Capital)*100\n",
    "Rend"
   ]
  },
  {
   "cell_type": "markdown",
   "metadata": {},
   "source": [
    "## Segunda Parte: Métricas\n",
    "***"
   ]
  },
  {
   "cell_type": "markdown",
   "metadata": {},
   "source": [
    "* __¿Qué es el Rendimiento?__\n",
    "\n",
    "El rendimiento financiero, por lo tanto, es la ganancia que permite obtener una cierta operación. Se trata de un cálculo que se realiza tomando la inversión realizada y la utilidad generada luego de un cierto periodo.\n",
    "\n",
    "&nbsp;\n",
    "* __¿Qué es la Desviación Estandar?__\n",
    "\n",
    "Ésta es una medida del riesgo de una acción individual y de portafolios de activos.\n",
    "\n",
    "&nbsp;\n",
    "* __¿Qué es el Radio de Sharpe?__\n",
    "\n",
    "Mide numéricamente la relación Rentabilidad / Volatilidad Histórica (desviación standard) de un Fondo de Inversión. Se calcula dividiendo la rentabilidad de un fondo menos la tasa de interés sin riesgo entre la volatilidad o desviación standard de esa rentabilidad en el mismo periodo.\n",
    "\n",
    "&nbsp;\n",
    "* __¿Qué es el NAV?__\n",
    "\n",
    "El valor liquidativo de un fondo de inversión es el precio unitario de cada participación en el fondo en un momento determinado. Será el resultado de dividir el patrimonio del fondo entre el número de participaciones en circulación. NAV por sus siglás en inglés (Net Asset Value)."
   ]
  },
  {
   "cell_type": "markdown",
   "metadata": {},
   "source": [
    "A continuación, sacamos las métricas descritas anteriormente y las mostramos en la tabla:"
   ]
  },
  {
   "cell_type": "code",
   "execution_count": 166,
   "metadata": {},
   "outputs": [],
   "source": [
    "import pandas as pd\n",
    "d = {}  # Diccionario vacio\n",
    "etf = pd.read_csv(\"/Users/Lilly Lomeli Salado/Desktop/7mo semestre/Trading/Lab1/Lab1/HISTORICOS/\" +\n",
    "                  '/NAV-per-day-OEF.csv')\n",
    "etf['Shares Outstanding'] = etf['Shares Outstanding'].str.replace(',', '')\n",
    "etf['Index Level'] = etf['Index Level'].str.replace(',', '')\n",
    "\n",
    "#Usamos yield dependiendo del día de cada mes#\n",
    "usd_rate = [0.0241, 0.0241, 0.0239, 0.0240, 0.0241, 0.0241, 0.0243, 0.0243, 0.0242, 0.0242, 0.0241, 0.0241]"
   ]
  },
  {
   "cell_type": "code",
   "execution_count": 167,
   "metadata": {},
   "outputs": [
    {
     "data": {
      "text/html": [
       "<div>\n",
       "<style scoped>\n",
       "    .dataframe tbody tr th:only-of-type {\n",
       "        vertical-align: middle;\n",
       "    }\n",
       "\n",
       "    .dataframe tbody tr th {\n",
       "        vertical-align: top;\n",
       "    }\n",
       "\n",
       "    .dataframe thead th {\n",
       "        text-align: right;\n",
       "    }\n",
       "</style>\n",
       "<table border=\"1\" class=\"dataframe\">\n",
       "  <thead>\n",
       "    <tr style=\"text-align: right;\">\n",
       "      <th></th>\n",
       "      <th>Rend %</th>\n",
       "      <th>Risk</th>\n",
       "      <th>Sharpe</th>\n",
       "    </tr>\n",
       "    <tr>\n",
       "      <th>Month</th>\n",
       "      <th></th>\n",
       "      <th></th>\n",
       "      <th></th>\n",
       "    </tr>\n",
       "  </thead>\n",
       "  <tbody>\n",
       "    <tr>\n",
       "      <th>Mar</th>\n",
       "      <td>0.325416</td>\n",
       "      <td>2.731295</td>\n",
       "      <td>-0.007632</td>\n",
       "    </tr>\n",
       "    <tr>\n",
       "      <th>Apr</th>\n",
       "      <td>0.272358</td>\n",
       "      <td>2.501299</td>\n",
       "      <td>-0.007826</td>\n",
       "    </tr>\n",
       "    <tr>\n",
       "      <th>May</th>\n",
       "      <td>0.431928</td>\n",
       "      <td>0.895924</td>\n",
       "      <td>-0.007242</td>\n",
       "    </tr>\n",
       "    <tr>\n",
       "      <th>Jun</th>\n",
       "      <td>0.889219</td>\n",
       "      <td>0.692861</td>\n",
       "      <td>-0.005568</td>\n",
       "    </tr>\n",
       "    <tr>\n",
       "      <th>Jul</th>\n",
       "      <td>0.544610</td>\n",
       "      <td>0.599940</td>\n",
       "      <td>-0.006830</td>\n",
       "    </tr>\n",
       "    <tr>\n",
       "      <th>Aug</th>\n",
       "      <td>-0.322812</td>\n",
       "      <td>0.735021</td>\n",
       "      <td>-0.010006</td>\n",
       "    </tr>\n",
       "    <tr>\n",
       "      <th>Sept</th>\n",
       "      <td>-0.473727</td>\n",
       "      <td>0.701021</td>\n",
       "      <td>-0.010558</td>\n",
       "    </tr>\n",
       "    <tr>\n",
       "      <th>Oct</th>\n",
       "      <td>-0.611604</td>\n",
       "      <td>0.952447</td>\n",
       "      <td>-0.011063</td>\n",
       "    </tr>\n",
       "    <tr>\n",
       "      <th>Nov</th>\n",
       "      <td>-0.880106</td>\n",
       "      <td>0.493007</td>\n",
       "      <td>-0.012046</td>\n",
       "    </tr>\n",
       "    <tr>\n",
       "      <th>Dec</th>\n",
       "      <td>-0.464585</td>\n",
       "      <td>0.755719</td>\n",
       "      <td>-0.010525</td>\n",
       "    </tr>\n",
       "    <tr>\n",
       "      <th>Jan</th>\n",
       "      <td>-0.836822</td>\n",
       "      <td>0.898903</td>\n",
       "      <td>-0.011887</td>\n",
       "    </tr>\n",
       "    <tr>\n",
       "      <th>Feb</th>\n",
       "      <td>-1.115366</td>\n",
       "      <td>0.757310</td>\n",
       "      <td>-0.012907</td>\n",
       "    </tr>\n",
       "  </tbody>\n",
       "</table>\n",
       "</div>"
      ],
      "text/plain": [
       "         Rend %      Risk    Sharpe\n",
       "Month                              \n",
       "Mar    0.325416  2.731295 -0.007632\n",
       "Apr    0.272358  2.501299 -0.007826\n",
       "May    0.431928  0.895924 -0.007242\n",
       "Jun    0.889219  0.692861 -0.005568\n",
       "Jul    0.544610  0.599940 -0.006830\n",
       "Aug   -0.322812  0.735021 -0.010006\n",
       "Sept  -0.473727  0.701021 -0.010558\n",
       "Oct   -0.611604  0.952447 -0.011063\n",
       "Nov   -0.880106  0.493007 -0.012046\n",
       "Dec   -0.464585  0.755719 -0.010525\n",
       "Jan   -0.836822  0.898903 -0.011887\n",
       "Feb   -1.115366  0.757310 -0.012907"
      ]
     },
     "execution_count": 167,
     "metadata": {},
     "output_type": "execute_result"
    }
   ],
   "source": [
    "series = ['Mar','Apr', 'May', 'Jun', 'Jul', 'Aug', 'Sept', 'Oct', 'Nov', 'Dec', 'Jan', 'Feb']\n",
    "rend = np.array(Rend)\n",
    "Risk = [np.std(etf['NAV per Share'][0:20]), np.std(etf['NAV per Share'][20:41]),\n",
    "        np.std(etf['NAV per Share'][41:61]), np.std(etf['NAV per Share'][61:82]),\n",
    "        np.std(etf['NAV per Share'][82:103]), np.std(etf['NAV per Share'][103:124]),\n",
    "        np.std(etf['NAV per Share'][124:144]), np.std(etf['NAV per Share'][144:165]),\n",
    "        np.std(etf['NAV per Share'][165:186]), np.std(etf['NAV per Share'][186:207]),\n",
    "        np.std(etf['NAV per Share'][207:227]), np.std(etf['NAV per Share'][227:247])]\n",
    "sharpe = ((rend/100)-usd_rate)/Risk\n",
    "NAV = l_NAV\n",
    "tabla = pd.DataFrame(index=series, columns=['Rend %', 'Risk', 'Sharpe'])\n",
    "tabla.index.name = \"Month\"\n",
    "tabla['Rend %'] = rend\n",
    "tabla['Risk'] = Risk\n",
    "tabla['Sharpe'] = sharpe\n",
    "tabla"
   ]
  },
  {
   "cell_type": "markdown",
   "metadata": {},
   "source": [
    "### Tercera Parte: Rebalanceo\n",
    "***"
   ]
  },
  {
   "cell_type": "code",
   "execution_count": null,
   "metadata": {},
   "outputs": [],
   "source": [
    " ## HAY QUE BUSCAR UN CRITERIO DE REBALANCEO, EN EL QUE PODAMOS USAR LA FUNCION QUE CREAMOS##"
   ]
  }
 ],
 "metadata": {
  "kernelspec": {
   "display_name": "Python 3",
   "language": "python",
   "name": "python3"
  },
  "language_info": {
   "codemirror_mode": {
    "name": "ipython",
    "version": 3
   },
   "file_extension": ".py",
   "mimetype": "text/x-python",
   "name": "python",
   "nbconvert_exporter": "python",
   "pygments_lexer": "ipython3",
   "version": "3.6.5"
  }
 },
 "nbformat": 4,
 "nbformat_minor": 2
}
