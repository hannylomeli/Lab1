{
 "cells": [
  {
   "cell_type": "markdown",
   "metadata": {},
   "source": [
    "# **Laboratorio 1**\n",
    "** Microestructura y Sistemas de Trading **"
   ]
  },
  {
   "cell_type": "markdown",
   "metadata": {},
   "source": [
    "* Jocelyn \n",
    "* Hannia \n",
    "* Carlos "
   ]
  },
  {
   "cell_type": "code",
   "execution_count": 3,
   "metadata": {},
   "outputs": [],
   "source": [
    "# ETF escogido: iShares S&P 100 ETF (OEF)\n",
    "# The iShares S&P 100 ETF seeks to track the investment results of an index composed of 100 large-capitalization U.S. equities.\n",
    "# Periodo 28.02.17 al 28.02.18"
   ]
  },
  {
   "cell_type": "code",
   "execution_count": 4,
   "metadata": {},
   "outputs": [],
   "source": [
    "# Mandamos a traer de Excel los precios históricos por mes en el periodo a analizar del ETF \n",
    "# Skiprows se brinca las filas que no quieras\n",
    "import pandas as pd\n",
    "meses = ['Feb','Mar','Abr','May','Jun','Jul','Agost','Sept','Oct','Nov','Dic','Enero','Feb2018'] \n",
    "for i in meses:\n",
    "    datos =  pd.read_excel('C:/Users/Lilly Lomeli Salado/Desktop/7mo semestre/Trading/Lab1/HISTORICOS.xlsx',sheet_name=meses,skiprows=10)"
   ]
  },
  {
   "cell_type": "code",
   "execution_count": 5,
   "metadata": {},
   "outputs": [],
   "source": [
    "#Datos en cada diferente sheet\n",
    "Feb=datos['Feb']\n",
    "Mar=datos['Mar']\n",
    "Abr=datos['Abr']\n",
    "May=datos['May']\n",
    "Jun=datos['Jun']\n",
    "Jul=datos['Jul']\n",
    "Agost=datos['Agost']\n",
    "Sept=datos['Sept']\n",
    "Oct=datos['Oct']\n",
    "Nov=datos['Nov']\n",
    "Dic=datos['Dic']\n",
    "Enero=datos['Enero']\n",
    "Feb2018=datos['Feb2018']"
   ]
  },
  {
   "cell_type": "code",
   "execution_count": 6,
   "metadata": {},
   "outputs": [],
   "source": [
    "# Hago una lista con todos los tickers en el ETF\n",
    "Tickers_Feb = Feb.Ticker.values.tolist()\n",
    "Tickers_Mar = Mar.Ticker.values.tolist()\n",
    "Tickers_Abr = Abr.Ticker.values.tolist()\n",
    "Tickers_May = May.Ticker.values.tolist()\n",
    "Tickers_Jun = Jun.Ticker.values.tolist()\n",
    "Tickers_Jul = Jul.Ticker.values.tolist()\n",
    "Tickers_Agost = Agost.Ticker.values.tolist()\n",
    "Tickers_Sept = Sept.Ticker.values.tolist()\n",
    "Tickers_Oct = Oct.Ticker.values.tolist()\n",
    "Tickers_Nov = Nov.Ticker.values.tolist()\n",
    "Tickers_Dic = Dic.Ticker.values.tolist()\n",
    "Tickers_Enero = Enero.Ticker.values.tolist()\n",
    "Tickers_Feb2018 = Feb2018.Ticker.values.tolist()"
   ]
  },
  {
   "cell_type": "code",
   "execution_count": 7,
   "metadata": {},
   "outputs": [],
   "source": [
    "# Hago una lista con las ponderaciones y las redondeo a 4 decimales\n",
    "import numpy as np\n",
    "Ponderaciones_Feb = np.round((Feb[\"Weight (%)\"]/100),4).values.tolist()\n",
    "Ponderaciones_Mar = np.round((Mar[\"Weight (%)\"]/100),4).values.tolist()\n",
    "Ponderaciones_Abr = np.round((Abr[\"Weight (%)\"]/100),4).values.tolist()\n",
    "Ponderaciones_May = np.round((May[\"Weight (%)\"]/100),4).values.tolist()\n",
    "Ponderacione_Jun = np.round((Jun[\"Weight (%)\"]/100),4).values.tolist()\n",
    "Ponderaciones_Jul = np.round((Jul[\"Weight (%)\"]/100),4).values.tolist()\n",
    "Ponderaciones_Agost = np.round((Agost[\"Weight (%)\"]/100),4).values.tolist()\n",
    "Ponderaciones_Sept = np.round((Sept[\"Weight (%)\"]/100),4).values.tolist()\n",
    "Ponderaciones_Oct = np.round((Oct[\"Weight (%)\"]/100),4).values.tolist()\n",
    "Ponderaciones_Nov = np.round((Nov[\"Weight (%)\"]/100),4).values.tolist()\n",
    "Ponderaciones_Dic = np.round((Dic[\"Weight (%)\"]/100),4).values.tolist()\n",
    "Ponderaciones_Enero = np.round((Enero[\"Weight (%)\"]/100),4).values.tolist()\n",
    "Ponderaciones_Feb2018 = np.round((Feb2018[\"Weight (%)\"]/100),4).values.tolist()"
   ]
  },
  {
   "cell_type": "code",
   "execution_count": 8,
   "metadata": {},
   "outputs": [],
   "source": [
    "# Función para descargar precios de YAHOO cierre ajustados de varios activos a la vez: \n",
    "# Si no encuentra un ticket, continua \n",
    "def get_closes(tickers, start_date=None, end_date=None, freq=None):\n",
    "    # Fecha inicio por defecto (start_date='2010-01-01') y fecha fin por defecto (end_date=today)\n",
    "    # Frecuencia de muestreo por defecto (freq='d')\n",
    "    # Importamos paquetes necesarios\n",
    "    import pandas as pd\n",
    "    pd.core.common.is_list_like = pd.api.types.is_list_like\n",
    "    import pandas_datareader.data as web  \n",
    "    # Creamos DataFrame vacío de precios, con el índice de las fechas\n",
    "    closes = pd.DataFrame(columns = tickers, index=web.YahooDailyReader(symbols=tickers[0], start=start_date, end=end_date, interval=freq).read().index)\n",
    "    # Agregamos cada uno de los precios con YahooDailyReader\n",
    "    for ticker in tickers:\n",
    "        try:\n",
    "            df = web.YahooDailyReader(symbols=ticker, start=start_date, end=end_date, interval=freq).read()\n",
    "            closes[ticker]=df['Adj Close']\n",
    "        except:\n",
    "            continue\n",
    "    closes.index_name = 'Date'\n",
    "    closes = closes.sort_index()\n",
    "    return closes"
   ]
  },
  {
   "cell_type": "code",
   "execution_count": 9,
   "metadata": {},
   "outputs": [],
   "source": [
    "# Aqui estoy llamando los precios de cierre de todos los activos que componen el ETF\n",
    "start_date = '2017-02-28'\n",
    "end_date = '2018-02-28'"
   ]
  },
  {
   "cell_type": "code",
   "execution_count": 10,
   "metadata": {},
   "outputs": [],
   "source": [
    "closes_stocks_Feb = get_closes(Tickers_Feb, start_date=start_date, end_date=end_date, freq='d')"
   ]
  },
  {
   "cell_type": "code",
   "execution_count": 12,
   "metadata": {},
   "outputs": [],
   "source": [
    "closes_stocks_Mar = get_closes(Tickers_Mar, start_date=start_date, end_date=end_date, freq='d')"
   ]
  },
  {
   "cell_type": "code",
   "execution_count": 13,
   "metadata": {},
   "outputs": [],
   "source": [
    "closes_stocks_Abr = get_closes(Tickers_Abr, start_date=start_date, end_date=end_date, freq='d')"
   ]
  },
  {
   "cell_type": "code",
   "execution_count": null,
   "metadata": {},
   "outputs": [],
   "source": [
    "closes_stocks_May = get_closes(Tickers_May, start_date=start_date, end_date=end_date, freq='d')"
   ]
  },
  {
   "cell_type": "code",
   "execution_count": null,
   "metadata": {},
   "outputs": [],
   "source": [
    "closes_stocks_Jun = get_closes(Tickers_Jun, start_date=start_date, end_date=end_date, freq='d')"
   ]
  },
  {
   "cell_type": "code",
   "execution_count": null,
   "metadata": {},
   "outputs": [],
   "source": [
    "closes_stocks_Jul = get_closes(Tickers_Jul, start_date=start_date, end_date=end_date, freq='d')"
   ]
  },
  {
   "cell_type": "code",
   "execution_count": null,
   "metadata": {},
   "outputs": [],
   "source": [
    "closes_stocks_Agost = get_closes(Tickers_Agost, start_date=start_date, end_date=end_date, freq='d')"
   ]
  },
  {
   "cell_type": "code",
   "execution_count": null,
   "metadata": {},
   "outputs": [],
   "source": [
    "closes_stocks_Sept = get_closes(Tickers_Sept, start_date=start_date, end_date=end_date, freq='d')"
   ]
  },
  {
   "cell_type": "code",
   "execution_count": null,
   "metadata": {},
   "outputs": [],
   "source": [
    "closes_stocks_Oct = get_closes(Tickers_Oct, start_date=start_date, end_date=end_date, freq='d')"
   ]
  },
  {
   "cell_type": "code",
   "execution_count": null,
   "metadata": {},
   "outputs": [],
   "source": [
    "closes_stocks_Nov = get_closes(Tickers_Nov, start_date=start_date, end_date=end_date, freq='d')"
   ]
  },
  {
   "cell_type": "code",
   "execution_count": null,
   "metadata": {},
   "outputs": [],
   "source": [
    "closes_stocks_Dic = get_closes(Tickers_Dic, start_date=start_date, end_date=end_date, freq='d')"
   ]
  },
  {
   "cell_type": "code",
   "execution_count": null,
   "metadata": {},
   "outputs": [],
   "source": [
    "closes_stocks_Enero = get_closes(Tickers_Enero, start_date=start_date, end_date=end_date, freq='d')"
   ]
  },
  {
   "cell_type": "code",
   "execution_count": null,
   "metadata": {},
   "outputs": [],
   "source": [
    "closes_stocks_Feb2018 = get_closes(Tickers_Feb2018, start_date=start_date, end_date=end_date, freq='d')"
   ]
  },
  {
   "cell_type": "code",
   "execution_count": 111,
   "metadata": {
    "scrolled": false
   },
   "outputs": [],
   "source": [
    "#Transpongo mi tabla para que con dropna me elimine todas las filas que tengan NaN\n",
    "#clean_data_Feb = closes_stocks.T.dropna()\n",
    "#clean_data_Mar = closes_stocks.T.dropna()\n",
    "#clean_data_Abr = closes_stocks.T.dropna()\n",
    "#clean_data_May = closes_stocks.T.dropna()\n",
    "#clean_data_Jun = closes_stocks.T.dropna()\n",
    "#clean_data_Jul = closes_stocks.T.dropna()"
   ]
  },
  {
   "cell_type": "code",
   "execution_count": 29,
   "metadata": {},
   "outputs": [
    {
     "ename": "NameError",
     "evalue": "name 'names' is not defined",
     "output_type": "error",
     "traceback": [
      "\u001b[1;31m---------------------------------------------------------------------------\u001b[0m",
      "\u001b[1;31mNameError\u001b[0m                                 Traceback (most recent call last)",
      "\u001b[1;32m<ipython-input-29-ef133e14a921>\u001b[0m in \u001b[0;36m<module>\u001b[1;34m()\u001b[0m\n\u001b[0;32m      1\u001b[0m \u001b[1;31m#Aqui hago una lista para después señalar las acciones eliminadas del etf#\u001b[0m\u001b[1;33m\u001b[0m\u001b[1;33m\u001b[0m\u001b[0m\n\u001b[1;32m----> 2\u001b[1;33m \u001b[0mdelete\u001b[0m\u001b[1;33m=\u001b[0m \u001b[1;33m[\u001b[0m\u001b[0mi\u001b[0m \u001b[1;32mfor\u001b[0m \u001b[0mi\u001b[0m \u001b[1;32min\u001b[0m \u001b[0mnames\u001b[0m \u001b[1;32mif\u001b[0m \u001b[0mi\u001b[0m \u001b[1;32mnot\u001b[0m \u001b[1;32min\u001b[0m \u001b[0mclean_data\u001b[0m\u001b[1;33m.\u001b[0m\u001b[0mT\u001b[0m\u001b[1;33m.\u001b[0m\u001b[0mcolumns\u001b[0m\u001b[1;33m.\u001b[0m\u001b[0mvalues\u001b[0m\u001b[1;33m.\u001b[0m\u001b[0mtolist\u001b[0m\u001b[1;33m(\u001b[0m\u001b[1;33m)\u001b[0m\u001b[1;33m]\u001b[0m\u001b[1;33m\u001b[0m\u001b[0m\n\u001b[0m",
      "\u001b[1;31mNameError\u001b[0m: name 'names' is not defined"
     ]
    }
   ],
   "source": [
    "#Aqui hago una lista para señalar las acciones eliminadas del etf#\n",
    "delete= [i for i in names if i not in clean_data.T.columns.values.tolist()]"
   ]
  },
  {
   "cell_type": "code",
   "execution_count": null,
   "metadata": {},
   "outputs": [],
   "source": [
    "#Rendimientos porcentuales por día del ETF\n",
    "data_ret = ((closes_stocks-closes_stocks.shift())/closes_stocks.shift()).dropna()*100"
   ]
  }
 ],
 "metadata": {
  "kernelspec": {
   "display_name": "Python 3",
   "language": "python",
   "name": "python3"
  },
  "language_info": {
   "codemirror_mode": {
    "name": "ipython",
    "version": 3
   },
   "file_extension": ".py",
   "mimetype": "text/x-python",
   "name": "python",
   "nbconvert_exporter": "python",
   "pygments_lexer": "ipython3",
   "version": "3.6.5"
  }
 },
 "nbformat": 4,
 "nbformat_minor": 2
}
