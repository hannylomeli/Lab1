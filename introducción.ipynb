{
 "cells": [
  {
   "cell_type": "markdown",
   "metadata": {},
   "source": [
    "### Introducción\n",
    "Dentro de este se podra analizar detalladamente el etf \"OEF\", con herramientas de programación se buscara explicar detalladamente cada parte del ETF.\n",
    "Para poder realizar este proyecto usamos multiples funciones de python y diferentes herramientas de programación para llevar a cabo este documento.\n",
    "Dentro de este proyecto se busca que cualquier persona con conocimientos financieros pueda entenderlo todo aunque no tenga conocimiento de programación."
   ]
  },
  {
   "cell_type": "markdown",
   "metadata": {},
   "source": [
    "### Propósito del proyecto\n",
    "Que puedas explicar las diferencias cuantitativas y cualitativas de administrar activamente o pasivamente el capital. Utilizando el caso de los ETFs con posiciones en acciones, para el caso particular de IShares y ETFs cuyos activos coticen en bolsas de valores de USA."
   ]
  },
  {
   "cell_type": "markdown",
   "metadata": {},
   "source": [
    "### ¿Qué es un ETF?\n",
    "Un Exchange Traded Fund, ETF, por sus siglas en inglés es un conjunto diversificado de activos, como un fondo de inversión, que cotiza en bolsa (como si fuera una acción). Los ETFs le permiten invertir su dinero fácilmente, con bajo costo y de manera eficiente a nivel impositivo."
   ]
  },
  {
   "cell_type": "markdown",
   "metadata": {},
   "source": [
    "### ¿Qué beneficios tienen los ETF?\n",
    "1. El costo, la conveniencia y la variedad son los motivos por los cuales los inversionistas deben considerar el uso de ETFs en sus carteras.\n",
    "2. Flexibilidad: los ETFs proporcionan exposiciones que se adaptan tanto a su cartera básica como a su inversión táctica.\n",
    "3. Efectividad en costos: los ETFs suelen tener comisiones de gestión más bajas que los fondos activos y sus costos son más fáciles de calcular.\n",
    "4. Diversificación: los ETFs ofrecen exposición instantánea a valores diversos en cada fondo (vehículo u operación) \n",
    "5. Transparencia: los ETFs muestran cada valor incluido actualmente en el mismo a fin de que usted sepa exactamente lo que tiene.\n",
    "6. Liquidez: los ETFs cotizan en bolsa y pueden comercializarse en cualquier momento durantela sesión bursátil.\n",
    "7. Acceso: los ETFs permiten un acceso instantáneo a los mercados internacionales."
   ]
  },
  {
   "cell_type": "markdown",
   "metadata": {},
   "source": [
    "### ¿Qué ETF se analizará?\n",
    "OEF"
   ]
  },
  {
   "cell_type": "markdown",
   "metadata": {},
   "source": [
    "El ETF iShares S&P 100 busca replicar los resultados de inversión de un índice compuesto por 100 valores de renta variable de alta capitalización de EE.UU. "
   ]
  },
  {
   "cell_type": "markdown",
   "metadata": {},
   "source": [
    "### ¿Por qué OEF?\n",
    "1. Exposición a las empresas más grandes de EE. UU.\n",
    " \n",
    "2. Acceso a 100 valores locales con tope máximo de capitalización en un solo fondo\n",
    " \n",
    "3. Use para buscar crecimiento a largo plazo de su cartera"
   ]
  },
  {
   "cell_type": "markdown",
   "metadata": {},
   "source": [
    "### Acciones que conforman este etf\n",
    "1.\tAPPLE INC\n",
    "2.\tMICROSOFT CORP\n",
    "3.\tAMAZON COM INC\n",
    "4.\tFACEBOOK CLASS A INC\n",
    "5.\tJPMORGAN CHASE & CO\n",
    "6.\tBERKSHIRE HATHAWAY INC CLASS B\n",
    "7.\tJOHNSON & JOHNSON\n",
    "8.\tALPHABET INC CLASS C\n",
    "9.\tALPHABET INC CLASS A\n",
    "10.\tEXXON MOBIL CORP\n",
    "11.\tBANK OF AMERICA CORP\n",
    "12.\tWELLS FARGO\n",
    "13.\tINTEL CORPORATION CORP\n",
    "14.\tVISA INC CLASS A\n",
    "15.\tAT&T INC\n",
    "16.\tCISCO SYSTEMS INC\n",
    "17.\tUNITEDHEALTH GROUP INC\n",
    "18.\tPFIZER INC\n",
    "19.\tHOME DEPOT INC\n",
    "20.\tCHEVRON CORP\n",
    "21.\tBOEING\n",
    "22.\tPROCTER & GAMBLE\n",
    "23.\tCITIGROUP INC\n",
    "24.\tVERIZON COMMUNICATIONS INC\n",
    "25.\tABBVIE INC\n",
    "26.\tCOMCAST A CORP\n",
    "27.\tCOCA-COLA\n",
    "28.\tDOWDUPONT INC\n",
    "29.\tMASTERCARD INC CLASS A\n",
    "30.\tPHILIP MORRIS INTERNATIONAL INC\n",
    "31.\tPEPSICO INC\n",
    "32.\tWALT DISNEY\n",
    "33.\tORACLE CORP\n",
    "34.\tMERCK & CO INC\n",
    "35.\t3M\n",
    "36.\tINTERNATIONAL BUSINESS MACHINES CO\n",
    "37.\tAMGEN INC\n",
    "38.\tWALMART INC\n",
    "39.\tMCDONALDS CORP\n",
    "40.\tGENERAL ELECTRIC\n",
    "41.\tALTRIA GROUP INC\n",
    "42.\tHONEYWELL INTERNATIONAL INC\n",
    "43.\tBRISTOL MYERS SQUIBB\n",
    "44.\tMEDTRONIC PLC\n",
    "45.\tTEXAS INSTRUMENT INC\n",
    "46.\tABBOTT LABORATORIES\n",
    "47.\tGILEAD SCIENCES INC\n",
    "48.\tUNION PACIFIC CORP\n",
    "49.\tUNITED TECHNOLOGIES CORP\n",
    "50.\tACCENTURE PLC CLASS A\n",
    "51.\tBOOKING HOLDINGS INC\n",
    "52.\tQUALCOMM INC\n",
    "53.\tGOLDMAN SACHS GROUP INC\n",
    "54.\tCATERPILLAR INC\n",
    "55.\tSCHLUMBERGER NV\n",
    "56.\tPAYPAL HOLDINGS INC\n",
    "57.\tNIKE INC CLASS B\n",
    "58.\tLOCKHEED MARTIN CORP\n",
    "59.\tUS BANCORP\n",
    "60.\tCOSTCO WHOLESALE CORP\n",
    "61.\tSTARBUCKS CORP\n",
    "62.\tMORGAN STANLEY\n",
    "63.\tELI LILLY\n",
    "64.\tLOWES COMPANIES INC\n",
    "65.\tTIME WARNER INC\n",
    "66.\tUNITED PARCEL SERVICE INC CLASS B\n",
    "67.\tNEXTERA ENERGY INC\n",
    "68.\tAMERICAN EXPRESS\n",
    "69.\tCVS HEALTH CORP\n",
    "70.\tCELGENE CORP\n",
    "71.\tBLACKROCK INC\n",
    "72.\tCHARTER COMMUNICATIONS INC CLASS  A\n",
    "73.\tMONDELEZ INTERNATIONAL INC CLASS A\n",
    "74.\tCONOCOPHILLIPS\n",
    "75.\tRAYTHEON\n",
    "76.\tGENERAL DYNAMICS CORP\n",
    "77.\tBIOGEN INC INC\n",
    "78.\tFEDEX CORP\n",
    "79.\tCOLGATE-PALMOLIVE\n",
    "80.\tDANAHER CORP\n",
    "81.\tWALGREEN BOOTS ALLIANCE INC\n",
    "82.\tBANK OF NEW YORK MELLON CORP\n",
    "83.\tMONSANTO\n",
    "84.\tDUKE ENERGY CORP\n",
    "85.\tAMERICAN INTERNATIONAL GROUP INC\n",
    "86.\tALLERGAN\n",
    "87.\tGENERAL MOTORS\n",
    "88.\tOCCIDENTAL PETROLEUM CORP\n",
    "89.\tMETLIFE INC\n",
    "90.\tSIMON PROPERTY GROUP REIT INC\n",
    "91.\tCAPITAL ONE FINANCIAL CORP\n",
    "92.\tEMERSON ELECTRIC\n",
    "93.\tSOUTHERN\n",
    "94.\tF MOTOR\n",
    "95.\tTARGET CORP\n",
    "96.\tHALLIBURTON\n",
    "97.\tKRAFT HEINZ\n",
    "98.\tTWENTY FIRST CENTURY FOX INC CLASS\n",
    "99.\tEXELON CORP\n",
    "100. ALLSTATE CORP\n",
    "101. USD CASH\n",
    "102. KINDER MORGAN INC\n",
    "103. BLK CSH FND TREASURY SL AGENCY\n",
    "104. TWENTY-FIRST CENTURY FOX INC CLASS\n",
    "105. CASH COLLATERAL MSFUT USD\n",
    "106. S&P500 EMINI MAR 18\n",
    "\n"
   ]
  },
  {
   "cell_type": "markdown",
   "metadata": {},
   "source": [
    "### ¿Qué es el radio de Sharpe?\n",
    "Mide numéricamente la relación Rentabilidad / Volatilidad Histórica (desviación standard) de un Fondo de Inversión. Se calcula dividiendo la rentabilidad de un fondo menos la tasa de interés sin riesgo entre la volatilidad o desviación standard de esa rentabilidad en el mismo periodo."
   ]
  },
  {
   "cell_type": "markdown",
   "metadata": {},
   "source": [
    "### ¿Qué es el NAV?\n",
    "El valor liquidativo de un fondo de inversión es el precio unitario de cada participación en el fondo en un momento determinado. Será el resultado de dividir el patrimonio del fondo entre el número de participaciones en circulación. También se conoce como NAV por sus siglás en inglés (Net Asset Value)."
   ]
  },
  {
   "cell_type": "markdown",
   "metadata": {},
   "source": [
    "### ¿Qué es rendimiento?\n",
    "El rendimiento financiero, por lo tanto, es la ganancia que permite obtener una cierta operación. Se trata de un cálculo que se realiza tomando la inversión realizada y la utilidad generada luego de un cierto periodo."
   ]
  },
  {
   "cell_type": "markdown",
   "metadata": {},
   "source": [
    "### ¿Qué es la desviación estandar?\n",
    "Ésta es una medida del riesgo de una acción individual y de portafolios de activos. "
   ]
  },
  {
   "cell_type": "code",
   "execution_count": null,
   "metadata": {},
   "outputs": [],
   "source": []
  }
 ],
 "metadata": {
  "kernelspec": {
   "display_name": "Python 3",
   "language": "python",
   "name": "python3"
  },
  "language_info": {
   "codemirror_mode": {
    "name": "ipython",
    "version": 3
   },
   "file_extension": ".py",
   "mimetype": "text/x-python",
   "name": "python",
   "nbconvert_exporter": "python",
   "pygments_lexer": "ipython3",
   "version": "3.6.6"
  }
 },
 "nbformat": 4,
 "nbformat_minor": 2
}
